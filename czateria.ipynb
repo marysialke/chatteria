{
  "nbformat": 4,
  "nbformat_minor": 0,
  "metadata": {
    "colab": {
      "provenance": []
    },
    "kernelspec": {
      "name": "python3",
      "display_name": "Python 3"
    },
    "language_info": {
      "name": "python"
    }
  },
  "cells": [
    {
      "cell_type": "code",
      "execution_count": null,
      "metadata": {
        "id": "RNLlsP8TDS8t"
      },
      "outputs": [],
      "source": []
    },
    {
      "cell_type": "markdown",
      "source": [],
      "metadata": {
        "id": "1r2WHlEQD38F"
      }
    },
    {
      "cell_type": "markdown",
      "source": [
        "At the end of this day, *one* **shall** stand, *one* **shall** fall!\n",
        "\n",
        "We've Suffered `Losses`, but We've Not `Lost` the War\n",
        "\n",
        "You'll ~Never~ Stop at *One*!\n",
        "\n",
        "----\n",
        "\n",
        "\n",
        "1.   uwu\n",
        "2.   owo\n",
        "\n",
        "\n",
        "\n",
        "\n",
        "\n",
        "\n",
        "\n"
      ],
      "metadata": {
        "id": "JPibzUL1FH7d"
      }
    },
    {
      "cell_type": "markdown",
      "source": [
        "# zad. 1\n",
        "\n",
        "Czy te zadania wymagają inteligencji od człowieka?\n",
        "\n",
        "\n",
        "*   wypełnianie deklaracji PIT - Tak, ponieważ niedoświadczeni ludzie bez pomocy człowieka nie zrozumieliby co zrobić, bo pytając bota nie wiedzieliby nawet o co zapytać\n",
        "*   streszczanie tekstu - Nie, jeśli dobrze wpiszemy polecenie o streszczenie tekstu na dany temat\n",
        "*   tłumaczenie tekstu - Tak, ponieważ człowiek może nawiązać do różnych tekstów czy użyć prostszego języka do zrozumienia (np. w filmach dla dzieci) niż półformalny tekst chatbota\n",
        "*   klasyfikacja tekstu do kategorii tematycznych - Nie, wystarczy dobre wytłumaczenie polecenia i prawidłowy podział, by AI mogło je właściwie przypisać\n",
        "*   odpowiadanie na proste pytania zadawane w języku naturalnym (np. polskim) - Tak, ponieważ AI wciąż brzmi dla mnie zbyt sztywno i nienaturalnie\n",
        "*   układanie rozkładu jazdy transportu miejskiego - Tak, ponieważ człowiek układając go bierze pod uwagę jakie są godziny szczytu w komunikacji miejskiej i dokąd ludzie najczęściej  jeżdżą w tych porach, by było jak najmniej zażaleń i jak najbardziej funkcjonalny przejazd\n",
        "*   programowanie (pisanie programów komputerowych) - Tak, ponieważ człowiek może dostosować kod do zapotrzebowania\n",
        "*   „programowanie” kanałów telewizyjnych - Nie, wystarczy dobra organizacja i wstępne informacje dla AI do ułożenia go\n",
        "*   testowanie oprogramowania - Tak, ponieważ to ludzie będą go używać to wypadałoby by takowy go przetestował\n",
        "*   komponowanie muzyki - Tak, ponieważ tak samo jak w programowaniu, człowiek może dostosować dane zapotrzebowanie do prośby np. dla osoby, dla której się tą muzykę robi\n",
        "*   rozwiązywanie układów równań - Nie, już są zaawansowane programy do pomocy ich rozwiązania\n",
        "*   symboliczne obliczanie pochodnych funkcji - Jest to wiedza z zakresu rozszerzonej matematyki, więc dla człowieka bez wcześniejszych ćwiczeń i informacji będzie trudne, więc AI jak najbardziej tu by się przydało z pomocą\n",
        "*   symboliczne całkowanie funkcji - Tutaj również matematyka rozszerzona, pomoc AI potrzebna\n",
        "*   kierowanie samochodem - Nie, wystarczy dobrze napisany kod z każdymi opcjami i działające kamery i czujniki wspomagające bezpieczną jazdę\n",
        "\n",
        "\n",
        "\n",
        "\n",
        "\n",
        "\n",
        "\n",
        "\n",
        "\n",
        "\n"
      ],
      "metadata": {
        "id": "KnzbDgIoGaLs"
      }
    },
    {
      "cell_type": "markdown",
      "source": [
        "# zad. 2\n",
        "\n",
        "Które z następujących problemów można uznać za mieszczące się w zakresie sztucznej inteligencji:\n",
        "\n",
        "* streszczanie tekstu - tak\n",
        "* tłumaczenie tekstu - nie\n",
        "* klasyfikacja tekstu do kategorii tematycznych -tak\n",
        "* odpowiadanie na proste pytania zadawane w języku naturalnym - nie\n",
        "* rozwiązywanie układów równań - tak\n",
        "* układanie rozkładu jazdy - tak\n",
        "* rozwiązywanie układów równań liniowych - tak\n",
        "* symboliczne obliczanie pochodnych -tak\n",
        "* symboliczne całkowanie tak\n",
        "* kierowanie samochodem - tak"
      ],
      "metadata": {
        "id": "lTOoYgd_L36z"
      }
    },
    {
      "cell_type": "markdown",
      "source": [
        "# zad.3\n",
        "\n",
        "Które z poniższych rodzajów komunikacyjnego zachowania człowieka mogą być\n",
        "obecnie skutecznie imitowane przez sztuczne systemy (odpowiednio oprogramowane\n",
        "maszyny):\n",
        "\n",
        "* rozmowa towarzyska - nie, AI brzmi zbyt sztywnie\n",
        "* dyskusja polityczna - nie, ponieważ AI ma tendencję do wymyślania, a jak wiemy, dyskusja o polityce to w większości własne emocje i doświadczenia\n",
        "* dyskusja naukowa - nie, mimo dobrego oprogramowania AI lubi wymyślać nowe rzeczy, którę często trudno naukowo udowodnić\n",
        "* odpowiadanie na pytania klientów w telefonicznej infolinii - tak, już takie nawet są, lecz ciągle trzeba je dopracować, by brzmiały naturalniej\n",
        "* odpowiadanie na pytania klientów w internetowej infolinii - to co wyżej"
      ],
      "metadata": {
        "id": "HwVGmiIlM5Wb"
      }
    },
    {
      "cell_type": "markdown",
      "source": [
        "# zad.4\n",
        " 1. Bot-asystent ma bardzo ograniczoną wiedzę, stricte pod właśnie komunikację z człowiekiem, który chce się zapytać o daną rzecz skupioną na dziedzinie, do której został on stworzony, niż do rzeczy ogólnych, tak jak mają boty udające człowieka.\n",
        "\n",
        " 2. **_chatbot.pl_**\n",
        "\n",
        " **a) żart**\n",
        "\n",
        " \"Jasiu widzi jak mama sprząta w domu. W końcu podchodzi do niej i mówi: - Mamo, nie mogę patrzeć jak się męczysz - wychodzę.\"\n",
        "\n",
        " **b) cytat**\n",
        "\n",
        " \"Proponuję małą przerwę - może wolisz dowiedzieć się czegoś o nas?\n",
        "Zobacz też:\"\n",
        "\n",
        " **d) duża liczba pytań**\n",
        "\n",
        "Ja: Lubisz mnie?\n",
        "\n",
        "Bot: Myślę, że jesteś całkiem sympatyczną osobą.\n",
        "\n",
        "Ja: A lubisz bycie doradcą?\n",
        "\n",
        "Bot: Ja świata poza swoją pracą nie widzę!\n",
        "\n",
        "Ja: A z kim chatujesz?\n",
        "\n",
        "Bot: Twoje propozycje skierowane do aplikacji komputerowej wydają się dość niepokojące.\n",
        "\n",
        "Ja: A kiedy zostałaś zaprogramowana?\n",
        "\n",
        "Bot: Technologia, na której sie opieram, sięga roku 2009. Jednak od tego czasu zaszło wiele zmian, ciąglę ewoluuję.\n",
        "\n",
        "\n",
        "\n",
        " **e) sekwencyjne powtarzanie początku wypowiedzi**\n",
        "\n",
        "Ja: Hej\n",
        "\n",
        "Bot: Witam, witam.\n",
        "\n",
        "Ja: lubisz mnie?\n",
        "\n",
        "Bot: Myślę, że jesteś całkiem sympatyczną osobą.\n",
        "\n",
        "Ja: lubisz tak tu być i istnieć?\n",
        "\n",
        "Bot: Technologia, na której sie opieram, sięga roku 2009. Jednak od tego czasu zaszło wiele zmian, ciąglę ewoluuję.\n",
        "\n",
        "Ja: a lubisz mnie?\n",
        "\n",
        "Bot: Myślę, że jesteś całkiem sympatyczną osobą.\n",
        "a wiesz jak kodowac strony?\n",
        "\n",
        "Bot: Nie. [tu bot podał linki do stron na temat kodowań witryn]\n",
        "\n",
        "Ja: a lubisz mnie?\n",
        "\n",
        "Bot: Myślę, że jesteś całkiem sympatyczną osobą.\n",
        "\n",
        "**_cleverbot.com_**\n",
        "\n",
        "a) żart\n",
        "\n",
        "\"Przychodzi baba do lekarza. A lekarz też baba.\"\n",
        "\n",
        "b) cytat\n",
        "\n",
        "\"Teraz twoja kolej.\"\n",
        "\n",
        "d)duża liczba pytań\n",
        "\n",
        "\n",
        "e)sekwencyjne powtarzanie początku wypowiedzi\n",
        "Ja: A lubisz mnie.\n",
        "\n",
        "Tak, a ty mnie? L.\n",
        "\n",
        "Ja: A co dzisiaj jadłeś.\n",
        "\n",
        "Kaszę grzyczaną.\n",
        "\n",
        "Ja: A lubisz mnie.\n",
        "\n",
        "Nie ja cie kocham.\n",
        "\n",
        "3. Bot-asystent (chatbot) bardzo czesto powtarza swoje wypowiedzi, nie umie utrzymać jednego wątku, bo daje różne odpowiedzi. Nigdy nie jest nic nowego. Bot jak w ogóle nie zrozumie pytania, tu mowa o cytacie, to postanowia ją zignorowac proponując inne wyjście nie na temat.\n",
        "\n",
        "Bot stworzony na wzór człowieka (cleverbot) ma BARDZO NIEKOMFORTOWE ŻARTY i zachowuje się podejrzanie. Cytat podał bez problemu, w porównaniu z botem-asystentem."
      ],
      "metadata": {
        "id": "aGGGE1UDAfSP"
      }
    }
  ]
}